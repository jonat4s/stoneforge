{
 "cells": [
  {
   "cell_type": "code",
   "execution_count": 37,
   "id": "1d9e3fbd",
   "metadata": {},
   "outputs": [],
   "source": [
    "import numpy as np"
   ]
  },
  {
   "cell_type": "code",
   "execution_count": 38,
   "id": "cfb5d9d5",
   "metadata": {},
   "outputs": [
    {
     "name": "stdout",
     "output_type": "stream",
     "text": [
      "934.6655706001427\n"
     ]
    }
   ],
   "source": [
    "# Codigo aqui:\n",
    "tempo_total = 20\n",
    "C = 766.0\n",
    "j = 0.01\n",
    "\n",
    "M = C*(1 + j)**tempo_total\n",
    "print(M)"
   ]
  },
  {
   "cell_type": "code",
   "execution_count": 40,
   "id": "0c11df04",
   "metadata": {},
   "outputs": [
    {
     "name": "stdout",
     "output_type": "stream",
     "text": [
      "[766.         773.66       781.3966     789.210566   797.10267166\n",
      " 805.07369838 813.12443536 821.25567971 829.46823651 837.76291888\n",
      " 846.14054806 854.60195355 863.14797308 871.77945281 880.49724734\n",
      " 889.30221981 898.19524201 907.17719443 916.24896638 925.41145604\n",
      " 934.6655706 ]\n"
     ]
    }
   ],
   "source": [
    "tempo_total = 20\n",
    "C = 766.0\n",
    "j = 0.01\n",
    "\n",
    "# Lembrando que no Python os índices começam com 0\n",
    "M = np.zeros(tempo_total + 1)\n",
    "\n",
    "for t in range(tempo_total + 1):\n",
    "    M[t] = C*(1 + j)**t\n",
    "\n",
    "print(M)"
   ]
  },
  {
   "cell_type": "code",
   "execution_count": 41,
   "id": "78c07f41",
   "metadata": {},
   "outputs": [
    {
     "name": "stdout",
     "output_type": "stream",
     "text": [
      "813.1244353603661 813.1244353603661\n"
     ]
    }
   ],
   "source": [
    "# Codigo aqui:\n",
    "M[6]\n",
    "\n",
    "M6 = C*(1 + j)**6\n",
    "\n",
    "print(M[6], M6)"
   ]
  },
  {
   "cell_type": "code",
   "execution_count": 46,
   "id": "4742fb47",
   "metadata": {},
   "outputs": [
    {
     "name": "stdout",
     "output_type": "stream",
     "text": [
      "847.6772681244954\n"
     ]
    }
   ],
   "source": [
    "# fazendo o calculo da media na mao!\n",
    "media = 0.0\n",
    "for m in M:\n",
    "    # media += m\n",
    "    media = media + m\n",
    "media = media / len(M)\n",
    "print(media)"
   ]
  },
  {
   "cell_type": "code",
   "execution_count": 48,
   "id": "e18529c4",
   "metadata": {},
   "outputs": [
    {
     "name": "stdout",
     "output_type": "stream",
     "text": [
      "14\n"
     ]
    }
   ],
   "source": [
    "x = (2,3,4,5,6,6,7,7,8,8,8,9,7,7)\n",
    "print(len(x))"
   ]
  },
  {
   "cell_type": "code",
   "execution_count": 52,
   "id": "35d8a8f5",
   "metadata": {},
   "outputs": [
    {
     "name": "stdout",
     "output_type": "stream",
     "text": [
      "87\n"
     ]
    }
   ],
   "source": [
    "inicio = 0\n",
    "fim = 13\n",
    "soma = np.sum(x[inicio:fim+1])\n",
    "print(soma)"
   ]
  },
  {
   "cell_type": "code",
   "execution_count": null,
   "id": "3249ff9e",
   "metadata": {},
   "outputs": [],
   "source": []
  }
 ],
 "metadata": {
  "kernelspec": {
   "display_name": "Python 3 (ipykernel)",
   "language": "python",
   "name": "python3"
  },
  "language_info": {
   "codemirror_mode": {
    "name": "ipython",
    "version": 3
   },
   "file_extension": ".py",
   "mimetype": "text/x-python",
   "name": "python",
   "nbconvert_exporter": "python",
   "pygments_lexer": "ipython3",
   "version": "3.9.7"
  }
 },
 "nbformat": 4,
 "nbformat_minor": 5
}
