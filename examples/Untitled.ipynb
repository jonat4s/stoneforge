{
 "cells": [
  {
   "cell_type": "code",
   "execution_count": 1,
   "id": "543e5f8d",
   "metadata": {},
   "outputs": [],
   "source": [
    "import lasio"
   ]
  },
  {
   "cell_type": "code",
   "execution_count": 5,
   "id": "5db1baa5",
   "metadata": {},
   "outputs": [
    {
     "name": "stdout",
     "output_type": "stream",
     "text": [
      "<lasio.las.LASFile object at 0x000001D6C7AC1850>\n"
     ]
    }
   ],
   "source": [
    "well = lasio.read(r'C:\\Users\\graduando\\Documents\\GitHub\\stoneforge\\datasets\\dp1.las')\n",
    "print(well)\n",
    "\n"
   ]
  },
  {
   "cell_type": "code",
   "execution_count": null,
   "id": "538d0419",
   "metadata": {},
   "outputs": [],
   "source": [
    "well = lasio_read(/datasets/)"
   ]
  },
  {
   "cell_type": "code",
   "execution_count": 9,
   "id": "ae1cda74",
   "metadata": {},
   "outputs": [
    {
     "name": "stdout",
     "output_type": "stream",
     "text": [
      "oi \t fulano\n"
     ]
    }
   ],
   "source": []
  },
  {
   "cell_type": "code",
   "execution_count": null,
   "id": "1a80570e",
   "metadata": {},
   "outputs": [],
   "source": []
  }
 ],
 "metadata": {
  "kernelspec": {
   "display_name": "Python 3 (ipykernel)",
   "language": "python",
   "name": "python3"
  },
  "language_info": {
   "codemirror_mode": {
    "name": "ipython",
    "version": 3
   },
   "file_extension": ".py",
   "mimetype": "text/x-python",
   "name": "python",
   "nbconvert_exporter": "python",
   "pygments_lexer": "ipython3",
   "version": "3.8.8"
  }
 },
 "nbformat": 4,
 "nbformat_minor": 5
}
