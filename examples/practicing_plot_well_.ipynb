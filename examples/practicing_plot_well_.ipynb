{
 "cells": [
  {
   "cell_type": "code",
   "execution_count": 117,
   "id": "a9a0f503",
   "metadata": {},
   "outputs": [],
   "source": [
    "import lasio as las\n",
    "import las2\n",
    "import matplotlib.pyplot as plt\n",
    "import numpy as np"
   ]
  },
  {
   "cell_type": "code",
   "execution_count": 7,
   "id": "ede467ea",
   "metadata": {},
   "outputs": [],
   "source": [
    "well = las2.read('../datasets/DP1.las')"
   ]
  },
  {
   "cell_type": "code",
   "execution_count": 14,
   "id": "a78c384e",
   "metadata": {},
   "outputs": [
    {
     "name": "stdout",
     "output_type": "stream",
     "text": [
      "version\n",
      "well\n",
      "curve\n",
      "parameter\n",
      "other\n",
      "data\n"
     ]
    }
   ],
   "source": [
    "for d in well:\n",
    "    print(d)"
   ]
  },
  {
   "cell_type": "code",
   "execution_count": 80,
   "id": "6446cda1",
   "metadata": {},
   "outputs": [
    {
     "name": "stdout",
     "output_type": "stream",
     "text": [
      "perfis dict_keys(['version', 'well', 'curve', 'parameter', 'other', 'data'])\n"
     ]
    }
   ],
   "source": [
    "print(\"perfis\", well.keys())"
   ]
  },
  {
   "cell_type": "code",
   "execution_count": 17,
   "id": "0d501e13",
   "metadata": {},
   "outputs": [
    {
     "name": "stdout",
     "output_type": "stream",
     "text": [
      "[{'mnemonic': 'STRT', 'unit': 'F', 'value': '100.0000', 'description': 'START DEPTH'}, {'mnemonic': 'STOP', 'unit': 'F', 'value': '7938.0000', 'description': 'STOP DEPTH'}, {'mnemonic': 'STEP', 'unit': 'F', 'value': '0.5000', 'description': 'STEP VALUE'}, {'mnemonic': 'NULL', 'unit': '', 'value': '-999.2500', 'description': 'NULL VALUE'}, {'mnemonic': 'COMP', 'unit': '', 'value': '', 'description': 'COMPANY'}, {'mnemonic': 'WELL', 'unit': '', 'value': 'DREW POINT #1', 'description': 'WELL'}, {'mnemonic': 'FLD', 'unit': '', 'value': 'WILDCAT', 'description': 'FIELD'}, {'mnemonic': 'LOC', 'unit': '', 'value': '26  18N   8W', 'description': 'LOCATION'}, {'mnemonic': 'CNTY', 'unit': '', 'value': 'NORTH SLOPE', 'description': 'COUNTY'}, {'mnemonic': 'STAT', 'unit': '', 'value': 'ALASKA', 'description': 'STATE'}, {'mnemonic': 'CTRY', 'unit': '', 'value': 'USA', 'description': 'COUNTRY'}, {'mnemonic': 'DATE', 'unit': '', 'value': '1/17/78', 'description': 'LOG DATE'}, {'mnemonic': 'API', 'unit': '', 'value': '502792000200', 'description': 'UNIQUE WELL IDENTIFIER'}, {'mnemonic': 'OPER', 'unit': '', 'value': '', 'description': 'OPERATOR'}, {'mnemonic': 'SRVC', 'unit': '', 'value': 'Schlumberger', 'description': 'SERVICE COMPANY'}, {'mnemonic': 'UWI', 'unit': '', 'value': '502792000200', 'description': 'UNIQUE WELL ID'}, {'mnemonic': 'LAT', 'unit': '', 'value': '0.0000', 'description': 'LATITUDE'}, {'mnemonic': 'LON', 'unit': '', 'value': '0.0000', 'description': 'LONGITUDE'}, {'mnemonic': 'DIGS', 'unit': '', 'value': 'Center Line Data', 'description': 'DIGITIZING COMPANY'}]\n"
     ]
    }
   ],
   "source": [
    "print(well['well'])"
   ]
  },
  {
   "cell_type": "code",
   "execution_count": 18,
   "id": "e6ff5749",
   "metadata": {},
   "outputs": [
    {
     "name": "stdout",
     "output_type": "stream",
     "text": [
      "[{'mnemonic': 'DEPT', 'unit': 'F', 'value': '', 'description': '1  DEPTH'}, {'mnemonic': 'SP', 'unit': 'MV', 'value': '', 'description': '2'}, {'mnemonic': 'ILD', 'unit': 'OHMM', 'value': '', 'description': '3'}, {'mnemonic': 'ILM', 'unit': 'OHMM', 'value': '', 'description': '4'}, {'mnemonic': 'LL8', 'unit': 'OHMM', 'value': '', 'description': '5'}, {'mnemonic': 'GR', 'unit': 'GAPI', 'value': '', 'description': '6'}, {'mnemonic': 'CALI', 'unit': 'IN', 'value': '', 'description': '7'}, {'mnemonic': 'DRHO', 'unit': 'G/C3', 'value': '', 'description': '8'}, {'mnemonic': 'RHOB', 'unit': 'G/C3', 'value': '', 'description': '9'}, {'mnemonic': 'NPHI', 'unit': '%', 'value': '', 'description': '10'}, {'mnemonic': 'DT', 'unit': 'US/F', 'value': '', 'description': '11'}]\n"
     ]
    }
   ],
   "source": [
    "print(well['curve'])"
   ]
  },
  {
   "cell_type": "code",
   "execution_count": 19,
   "id": "d486d2f7",
   "metadata": {},
   "outputs": [
    {
     "name": "stdout",
     "output_type": "stream",
     "text": [
      "[]\n"
     ]
    }
   ],
   "source": [
    "print(well['parameter'])"
   ]
  },
  {
   "cell_type": "code",
   "execution_count": 20,
   "id": "ed10bc35",
   "metadata": {},
   "outputs": [
    {
     "name": "stdout",
     "output_type": "stream",
     "text": [
      "[{'mnemonic': 'VERS', 'unit': '', 'value': '2.00', 'description': 'CWLS LOG ASCII STANDARD - VERSION 2.00'}, {'mnemonic': 'WRAP', 'unit': '', 'value': 'NO', 'description': 'ONE LINE PER DEPTH STEP'}]\n"
     ]
    }
   ],
   "source": [
    "print(well['version'])"
   ]
  },
  {
   "cell_type": "code",
   "execution_count": 21,
   "id": "c64e793a",
   "metadata": {},
   "outputs": [
    {
     "name": "stdout",
     "output_type": "stream",
     "text": [
      "[[ 100.   100.5  101.  ... 7945.  7945.5 7946. ]\n",
      " [-999.  -999.  -999.  ... -999.  -999.  -999. ]\n",
      " [-999.  -999.  -999.  ... -999.  -999.  -999. ]\n",
      " ...\n",
      " [-999.  -999.  -999.  ... -999.  -999.  -999. ]\n",
      " [-999.  -999.  -999.  ... -999.  -999.  -999. ]\n",
      " [-999.  -999.  -999.  ... -999.  -999.  -999. ]]\n"
     ]
    }
   ],
   "source": [
    "print(well['data'])"
   ]
  },
  {
   "cell_type": "code",
   "execution_count": 28,
   "id": "2d48ef21",
   "metadata": {
    "scrolled": true
   },
   "outputs": [
    {
     "name": "stdout",
     "output_type": "stream",
     "text": [
      "[{'mnemonic': 'VERS', 'unit': '', 'value': '2.00', 'description': 'CWLS LOG ASCII STANDARD - VERSION 2.00'}, {'mnemonic': 'WRAP', 'unit': '', 'value': 'NO', 'description': 'ONE LINE PER DEPTH STEP'}]\n",
      "[{'mnemonic': 'STRT', 'unit': 'F', 'value': '100.0000', 'description': 'START DEPTH'}, {'mnemonic': 'STOP', 'unit': 'F', 'value': '7938.0000', 'description': 'STOP DEPTH'}, {'mnemonic': 'STEP', 'unit': 'F', 'value': '0.5000', 'description': 'STEP VALUE'}, {'mnemonic': 'NULL', 'unit': '', 'value': '-999.2500', 'description': 'NULL VALUE'}, {'mnemonic': 'COMP', 'unit': '', 'value': '', 'description': 'COMPANY'}, {'mnemonic': 'WELL', 'unit': '', 'value': 'DREW POINT #1', 'description': 'WELL'}, {'mnemonic': 'FLD', 'unit': '', 'value': 'WILDCAT', 'description': 'FIELD'}, {'mnemonic': 'LOC', 'unit': '', 'value': '26  18N   8W', 'description': 'LOCATION'}, {'mnemonic': 'CNTY', 'unit': '', 'value': 'NORTH SLOPE', 'description': 'COUNTY'}, {'mnemonic': 'STAT', 'unit': '', 'value': 'ALASKA', 'description': 'STATE'}, {'mnemonic': 'CTRY', 'unit': '', 'value': 'USA', 'description': 'COUNTRY'}, {'mnemonic': 'DATE', 'unit': '', 'value': '1/17/78', 'description': 'LOG DATE'}, {'mnemonic': 'API', 'unit': '', 'value': '502792000200', 'description': 'UNIQUE WELL IDENTIFIER'}, {'mnemonic': 'OPER', 'unit': '', 'value': '', 'description': 'OPERATOR'}, {'mnemonic': 'SRVC', 'unit': '', 'value': 'Schlumberger', 'description': 'SERVICE COMPANY'}, {'mnemonic': 'UWI', 'unit': '', 'value': '502792000200', 'description': 'UNIQUE WELL ID'}, {'mnemonic': 'LAT', 'unit': '', 'value': '0.0000', 'description': 'LATITUDE'}, {'mnemonic': 'LON', 'unit': '', 'value': '0.0000', 'description': 'LONGITUDE'}, {'mnemonic': 'DIGS', 'unit': '', 'value': 'Center Line Data', 'description': 'DIGITIZING COMPANY'}]\n",
      "[{'mnemonic': 'DEPT', 'unit': 'F', 'value': '', 'description': '1  DEPTH'}, {'mnemonic': 'SP', 'unit': 'MV', 'value': '', 'description': '2'}, {'mnemonic': 'ILD', 'unit': 'OHMM', 'value': '', 'description': '3'}, {'mnemonic': 'ILM', 'unit': 'OHMM', 'value': '', 'description': '4'}, {'mnemonic': 'LL8', 'unit': 'OHMM', 'value': '', 'description': '5'}, {'mnemonic': 'GR', 'unit': 'GAPI', 'value': '', 'description': '6'}, {'mnemonic': 'CALI', 'unit': 'IN', 'value': '', 'description': '7'}, {'mnemonic': 'DRHO', 'unit': 'G/C3', 'value': '', 'description': '8'}, {'mnemonic': 'RHOB', 'unit': 'G/C3', 'value': '', 'description': '9'}, {'mnemonic': 'NPHI', 'unit': '%', 'value': '', 'description': '10'}, {'mnemonic': 'DT', 'unit': 'US/F', 'value': '', 'description': '11'}]\n",
      "[[ 100.   100.5  101.  ... 7945.  7945.5 7946. ]\n",
      " [-999.  -999.  -999.  ... -999.  -999.  -999. ]\n",
      " [-999.  -999.  -999.  ... -999.  -999.  -999. ]\n",
      " ...\n",
      " [-999.  -999.  -999.  ... -999.  -999.  -999. ]\n",
      " [-999.  -999.  -999.  ... -999.  -999.  -999. ]\n",
      " [-999.  -999.  -999.  ... -999.  -999.  -999. ]]\n"
     ]
    }
   ],
   "source": [
    "print(well['version'])\n",
    "print(well['well'])\n",
    "print(well['curve'])\n",
    "print(well['data'])"
   ]
  },
  {
   "cell_type": "code",
   "execution_count": 53,
   "id": "3adc68d3",
   "metadata": {},
   "outputs": [
    {
     "name": "stdout",
     "output_type": "stream",
     "text": [
      "[ 100.   100.5  101.  ... 7945.  7945.5 7946. ] [  25.1383   24.7342   24.9611 ... -999.     -999.     -999.    ]\n"
     ]
    }
   ],
   "source": [
    "DEPT = well['data'][0]\n",
    "GR = well['data'][5]\n",
    "print(DEPT,GR)"
   ]
  },
  {
   "cell_type": "code",
   "execution_count": 72,
   "id": "91cc9385",
   "metadata": {},
   "outputs": [
    {
     "data": {
      "image/png": "[encoded data removed]",
      "text/plain": [
       "<Figure size 640x480 with 1 Axes>"
      ]
     },
     "metadata": {},
     "output_type": "display_data"
    }
   ],
   "source": [
    "x = DEPT\n",
    "y = GR\n",
    "plt.plot(GR,DEPT,label= 'GR')\n",
    "plt.title(\"Well log\")\n",
    "plt.grid()\n",
    "plt.legend()\n",
    "plt.show()"
   ]
  },
  {
   "cell_type": "code",
   "execution_count": 92,
   "id": "2f3fef7c",
   "metadata": {},
   "outputs": [
    {
     "name": "stdout",
     "output_type": "stream",
     "text": [
      "[-999. -999. -999. ... -999. -999. -999.]\n"
     ]
    }
   ],
   "source": [
    "CALI = well['data'][6]\n",
    "print(CALI)"
   ]
  },
  {
   "cell_type": "code",
   "execution_count": 73,
   "id": "ea08028a",
   "metadata": {},
   "outputs": [],
   "source": [
    "def grafico_automatico(dicionario, dados, tamanho = [12,11]):\n",
    "\n",
    "    chaves = []\n",
    "    for i in dicionario:\n",
    "        if i != 'profundidade':\n",
    "            chaves.append(i)\n",
    "\n",
    "    n_tracks = np.max(chaves) + 1\n",
    "\n",
    "    profundidade_dado = dados[dicionario['profundidade']['perfil']]\n",
    "    profundidade_descricao = dicionario['profundidade']['descricao']\n",
    "\n",
    "    # n_tracks = número máximo encontrado nas chaves do dicionário\n",
    "\n",
    "    fig, ax = plt.subplots(1,n_tracks)\n",
    "    # similar a \"fig, (ax1, ax2, ax3, ax4) = plt.subplots(1,4)\", onde o elemento ax receberá todos os valores\n",
    "    # logo, ax1 = ax[0], ax2 = ax[1], e assim por diante\n",
    "\n",
    "    fig.set_size_inches(tamanho) # tamanho da figura | polegadas\n",
    "\n",
    "    ax[0].set_ylabel( profundidade_descricao , fontsize=16)  # label y para a profundidade aplicada apenas no primeiro track\n",
    "    for i in dicionario: # loop\n",
    "        if i != 'profundidade':\n",
    "            for j in range(len(dicionario[i]['perfis'])): # pode ter mais de um perfil em cada track, estes são gerenciados pelo índice \"j\"\n",
    "                ax[i].plot(dados[dicionario[i]['perfis'][j]], # \"i\" são as demais curvas distintas de zero \"if i != 0:\"\n",
    "                             profundidade_dado,\n",
    "                             dicionario[i]['estilo'][j], # estilo de linha, pode ser \".\" ou \"-\", \"--\"\n",
    "                             color = dicionario[i]['cores'][j], # a cor da linha que você quer\n",
    "                             linewidth = 1, # o comprimento da linha é fixo em 1, mas você pode alterar se quiser\n",
    "                             label=dicionario[i]['perfis'][j]) # \n",
    "                \n",
    "            if i > 0:\n",
    "                ax[i].set_yticklabels([]) # faz com que o valor da profundidade não aparece nos tracks além de \"ax[0]\"\"\n",
    "\n",
    "            ax[i].invert_yaxis()\n",
    "            ax[i].grid()\n",
    "            ax[i].legend(loc=2)\n",
    "            ax[i].set_xlabel(dicionario[i]['unidade']) # adiciona a unidade do perfil\n"
   ]
  },
  {
   "cell_type": "code",
   "execution_count": 105,
   "id": "2e16687f",
   "metadata": {
    "scrolled": true
   },
   "outputs": [
    {
     "data": {
      "text/plain": [
       "<matplotlib.legend.Legend at 0x1f36f3fbe50>"
      ]
     },
     "execution_count": 105,
     "metadata": {},
     "output_type": "execute_result"
    },
    {
     "data": {
      "image/png": "[encoded data removed]",
      "text/plain": [
       "<Figure size 500x400 with 1 Axes>"
      ]
     },
     "metadata": {},
     "output_type": "display_data"
    }
   ],
   "source": [
    "fig, (ax1) = plt.subplots(1,1) # 4 cruvas = 4 subplots\n",
    "fig.set_size_inches(5, 4) # tamanho da figura | polegadas\n",
    "\n",
    "\n",
    "ax1.plot(CALI,DEPT,'-r',linewidth = 1,label='GR')\n",
    "# (eixo x, eixo y, cor e tipo, comprimento da curva, legenda )\n",
    "ax1.invert_yaxis()\n",
    "# inverte o eixo y\n",
    "ax1.grid()\n",
    "# adiciona o 'grid' ou malha de fundo\n",
    "ax1.set_ylabel('profundidade ()', fontsize=16)\n",
    "# o que vai ser escrito no eixo y\n",
    "ax1.set_title('GR', fontsize=16)\n",
    "# titulo do 'track' ou do grafico com tamanho de letra 16\n",
    "ax1.legend(loc=1)"
   ]
  },
  {
   "cell_type": "code",
   "execution_count": 1,
   "id": "f3813a72",
   "metadata": {},
   "outputs": [],
   "source": [
    "# Criando uma função para o plot de curvas\n",
    "def plot_curves(well, depth, curves, colors, size = (12,12)):\n",
    "    \n",
    "    n_tracks = len(curves)\n",
    "\n",
    "    fig, ax = plt.subplots(1, n_tracks, sharey=True)\n",
    "    fig.set_size_inches(size)\n",
    "\n",
    "    ax[0].set_ylabel(well.curves[depth].mnemonic + ' (' + well.curves[depth].unit + ')')\n",
    "    ax[0].invert_yaxis()\n",
    "    for i in range(n_tracks):\n",
    "        ax[i].plot(well.curves[curves[i]].data, well.curves[depth].data, color=colors[i])\n",
    "        ax[i].set_title(well.curves[curves[i]].mnemonic)\n",
    "        ax[i].set_xlabel(well.curves[curves[i]].unit)\n",
    "        ax[i].grid()\n",
    "\n",
    "    plt.show()\n",
    "     "
   ]
  },
  {
   "cell_type": "code",
   "execution_count": 2,
   "id": "02f22092",
   "metadata": {},
   "outputs": [],
   "source": [
    "def grafico_automatico(dicionario, dados, tamanho = [12,11]):\n",
    "\n",
    "    chaves = []\n",
    "    for i in dicionario:\n",
    "        if i != 'profundidade':\n",
    "            chaves.append(i)\n",
    "\n",
    "    n_tracks = np.max(chaves) + 1\n",
    "    profundidade_dado = dados[dicionario['profundidade']['perfil']]\n",
    "    profundidade_descricao = dicionario['profundidade']['descricao']"
   ]
  },
  {
   "cell_type": "code",
   "execution_count": null,
   "id": "c80fd8ca",
   "metadata": {},
   "outputs": [],
   "source": []
  }
 ],
 "metadata": {
  "kernelspec": {
   "display_name": "Python 3 (ipykernel)",
   "language": "python",
   "name": "python3"
  },
  "language_info": {
   "codemirror_mode": {
    "name": "ipython",
    "version": 3
   },
   "file_extension": ".py",
   "mimetype": "text/x-python",
   "name": "python",
   "nbconvert_exporter": "python",
   "pygments_lexer": "ipython3",
   "version": "3.10.9"
  }
 },
 "nbformat": 4,
 "nbformat_minor": 5
}
